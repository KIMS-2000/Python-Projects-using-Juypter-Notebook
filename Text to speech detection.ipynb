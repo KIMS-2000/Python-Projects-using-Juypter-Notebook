{
 "cells": [
  {
   "cell_type": "code",
   "execution_count": 1,
   "metadata": {},
   "outputs": [],
   "source": [
    "from tkinter import *\n",
    "from gtts import gTTS\n",
    "from playsound import playsound"
   ]
  },
  {
   "cell_type": "code",
   "execution_count": 2,
   "metadata": {},
   "outputs": [
    {
     "data": {
      "text/plain": [
       "''"
      ]
     },
     "execution_count": 2,
     "metadata": {},
     "output_type": "execute_result"
    }
   ],
   "source": [
    "root = Tk()\n",
    "root.geometry(\"350x300\") \n",
    "root.configure(bg='ghost white')\n",
    "root.title(\"DataFlair - TEXT TO SPEECH\")"
   ]
  },
  {
   "cell_type": "code",
   "execution_count": 3,
   "metadata": {},
   "outputs": [],
   "source": [
    "Label(root, text = \"TEXT_TO_SPEECH\", font = \"arial 20 bold\", bg='white smoke').pack()\n",
    "Label(text =\"DataFlair\", font = 'arial 15 bold', bg ='white smoke' , width = '20').pack(side = 'bottom')\n",
    "\n",
    "Msg = StringVar()\n",
    "Label(root,text =\"Enter Text\", font = 'arial 15 bold', bg ='white smoke').place(x=20,y=60)\n",
    "\n",
    "entry_field = Entry(root, textvariable = Msg ,width ='50')\n",
    "entry_field.place(x=20,y=100)"
   ]
  },
  {
   "cell_type": "code",
   "execution_count": 4,
   "metadata": {},
   "outputs": [],
   "source": [
    "def Text_to_speech():\n",
    "    Message = entry_field.get()\n",
    "    speech = gTTS(text = Message)\n",
    "    speech.save('DataFlair.mp3')\n",
    "    playsound('DataFlair.mp3')"
   ]
  },
  {
   "cell_type": "code",
   "execution_count": 5,
   "metadata": {},
   "outputs": [],
   "source": [
    "def Exit():\n",
    "    root.destroy()"
   ]
  },
  {
   "cell_type": "code",
   "execution_count": 6,
   "metadata": {},
   "outputs": [],
   "source": [
    "def Reset():\n",
    "    Msg.set(\"\")"
   ]
  },
  {
   "cell_type": "code",
   "execution_count": 7,
   "metadata": {},
   "outputs": [],
   "source": [
    "Button(root, text = \"PLAY\", font = 'arial 15 bold' , command = Text_to_speech ,width = '4').place(x=25,y=140)\n",
    "\n",
    "Button(root, font = 'arial 15 bold',text = 'EXIT', width = '4' , command = Exit, bg = 'OrangeRed1').place(x=100 , y = 140)\n",
    "\n",
    "Button(root, font = 'arial 15 bold',text = 'RESET', width = '6' , command = Reset).place(x=175 , y = 140)"
   ]
  },
  {
   "cell_type": "code",
   "execution_count": null,
   "metadata": {},
   "outputs": [
    {
     "name": "stderr",
     "output_type": "stream",
     "text": [
      "Exception in Tkinter callback\n",
      "Traceback (most recent call last):\n",
      "  File \"C:\\Users\\kodur\\anaconda3\\lib\\tkinter\\__init__.py\", line 1705, in __call__\n",
      "    return self.func(*args)\n",
      "  File \"<ipython-input-4-5478bb520cf4>\", line 4, in Text_to_speech\n",
      "    speech.save('DataFlair.mp3')\n",
      "  File \"C:\\Users\\kodur\\anaconda3\\lib\\site-packages\\gtts\\tts.py\", line 294, in save\n",
      "    with open(str(savefile), 'wb') as f:\n",
      "PermissionError: [Errno 13] Permission denied: 'DataFlair.mp3'\n"
     ]
    }
   ],
   "source": [
    "root.mainloop()"
   ]
  },
  {
   "cell_type": "code",
   "execution_count": null,
   "metadata": {},
   "outputs": [],
   "source": []
  }
 ],
 "metadata": {
  "kernelspec": {
   "display_name": "Python 3",
   "language": "python",
   "name": "python3"
  },
  "language_info": {
   "codemirror_mode": {
    "name": "ipython",
    "version": 3
   },
   "file_extension": ".py",
   "mimetype": "text/x-python",
   "name": "python",
   "nbconvert_exporter": "python",
   "pygments_lexer": "ipython3",
   "version": "3.7.6"
  }
 },
 "nbformat": 4,
 "nbformat_minor": 4
}
