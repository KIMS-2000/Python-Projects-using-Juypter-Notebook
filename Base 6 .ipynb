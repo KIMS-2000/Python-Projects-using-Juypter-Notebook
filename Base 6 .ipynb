{
 "cells": [
  {
   "cell_type": "markdown",
   "metadata": {},
   "source": [
    "# Base 6"
   ]
  },
  {
   "cell_type": "markdown",
   "metadata": {},
   "source": [
    "## Problem Description"
   ]
  },
  {
   "cell_type": "markdown",
   "metadata": {},
   "source": [
    "\n",
    "Given a sequence of distinct numbers a1, a2, ….. an, an inversion occurs if there are indices i<j such that ai >aj .\n",
    "For example, in the sequence 2 1 4 3 there are 2 inversions (2 1) and (4 3).\n",
    "The input will be a main sequence of N positive integers. From this sequence, a Derived Sequence will be obtained using the following rule. The output is the number of inversions in the derived sequence.\n",
    "Rule for forming derived sequence\n",
    "An integer may be represented in base 6 notation. In base 6, 10305 is 1x64 + 3x62 + 5 =1409. Note that none of the digits in that representation will be more than 5.\n",
    "The sum of digits in a base 6 representation is the sum of all the digits at the various positions in the representation. Thus for the number 1409, the representation is 10305, and the sum of digits is 1+0+3+0+5=9. The sum of digits may be done in the decimal system, and does not need to be in base 6\n",
    "The derived sequence is the sum of the digits when the corresponding integer is represented in the base 6 form number will be expressed in base 6, and the derived sequence is the sum of the digits of the number in the base 6 representation."
   ]
  },
  {
   "cell_type": "markdown",
   "metadata": {},
   "source": [
    "#### Constraints"
   ]
  },
  {
   "cell_type": "markdown",
   "metadata": {},
   "source": [
    "\n",
    "N <= 50\n",
    "Integers in sequence <= 107\n",
    "#### Input Format\n",
    "The first line of the input will have a single integer, which will give N.\n",
    "The next line will consist of a comma separated string of N integers, which is the main sequence\n",
    "Output\n",
    "The number of inversions in the derived sequence formed from the main sequence.\n",
    "#### Example 1\n",
    "Input\n",
    "5\n",
    "55, 53, 88, 27, 33\n",
    "Output\n",
    "2"
   ]
  },
  {
   "cell_type": "markdown",
   "metadata": {},
   "source": [
    "# Python 3 Code"
   ]
  },
  {
   "cell_type": "code",
   "execution_count": 2,
   "metadata": {},
   "outputs": [
    {
     "name": "stdout",
     "output_type": "stream",
     "text": [
      "5\n",
      "55,53,88,27,33\n",
      "2\n"
     ]
    }
   ],
   "source": [
    "from collections import deque\n",
    "from functools import reduce\n",
    "from copy import deepcopy\n",
    "def deciToB6(num):\n",
    "    queue=deque()\n",
    "    while num:\n",
    "        rem = num%6 \n",
    "        queue.appendleft(rem)\n",
    "        num=num//6 \n",
    "    return reduce((lambda x,y:x+y),queue)\n",
    "    \n",
    "    \n",
    "def inversion(arr):\n",
    "    arrSorted = sorted(deepcopy(arr))\n",
    "    dA ={}  # to map index of actual array to corresponding value\n",
    "    dS={}   # to map index of sorted array to corresponding value\n",
    "    for i in range(len(arrSorted)):\n",
    "        dA[arr[i]] = i \n",
    "        dS[arrSorted[i]] = i\n",
    "    count=0    \n",
    "    for i in range(len(arr)):\n",
    "        val = (i - dS[arr[i]] )\n",
    "        if  val > 0:\n",
    "            count+= val\n",
    "    return count        \n",
    "    \n",
    "if __name__==\"__main__\":\n",
    "    n = int(input())\n",
    "    arr = list(map(int,input().split(',')))\n",
    "    darr=[0]*n\n",
    "    for i in range(n):\n",
    "        darr[i]=deciToB6(arr[i])\n",
    "    print(inversion(darr))   "
   ]
  },
  {
   "cell_type": "markdown",
   "metadata": {},
   "source": [
    "# C Code\n"
   ]
  },
  {
   "cell_type": "code",
   "execution_count": null,
   "metadata": {},
   "outputs": [],
   "source": [
    "#include<stdio.h>\n",
    "int main()\n",
    "{\n",
    "  int n,i,j,a[1000],c1=0,k,rem;\n",
    "  scanf(\"%d\",&n);\n",
    "  for(i=0;i<n;i++)\n",
    "  {\n",
    "    scanf(\"%d,\",&a[i]);\n",
    "    k=a[i];\n",
    "    rem=0;\n",
    "    while(k>0)\n",
    "    {\n",
    "      rem=rem+k%6;\n",
    "      k=k/6;\n",
    "    }\n",
    "    a[i]=rem;\n",
    "  }\n",
    "  for(i=0;i<n;i++)\n",
    "  {\n",
    "    for(j=i+1;j<n;j++)\n",
    "    {\n",
    "      if(a[i]>a[j])\n",
    "      {\n",
    "        c1++;\n",
    "      }\n",
    "    }\n",
    "  }\n",
    "  printf(\"%d\",c1);\n",
    "  return 0;\n",
    "}"
   ]
  }
 ],
 "metadata": {
  "kernelspec": {
   "display_name": "Python 3",
   "language": "python",
   "name": "python3"
  },
  "language_info": {
   "codemirror_mode": {
    "name": "ipython",
    "version": 3
   },
   "file_extension": ".py",
   "mimetype": "text/x-python",
   "name": "python",
   "nbconvert_exporter": "python",
   "pygments_lexer": "ipython3",
   "version": "3.7.6"
  }
 },
 "nbformat": 4,
 "nbformat_minor": 4
}
