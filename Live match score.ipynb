{
 "cells": [
  {
   "cell_type": "code",
   "execution_count": 6,
   "metadata": {},
   "outputs": [],
   "source": [
    "import os\n",
    "import sys\n",
    "import time\n",
    "\n",
    "from win32api import GetModuleHandle\n",
    "import win32con\n",
    "import win32gui\n",
    "\n",
    "\n",
    "class WindowsBalloonTip:\n",
    "    def __init__(self, title, msg):\n",
    "        message_map = {win32con.WM_DESTROY: self.OnDestroy, }\n",
    "        # Register the Window class.\n",
    "        wc = win32gui.WNDCLASS()\n",
    "        self.destroyed = False\n",
    "        hinst = wc.hInstance = GetModuleHandle(None)\n",
    "        wc.lpszClassName = \"PythonTaskbar\"\n",
    "        wc.lpfnWndProc = message_map    # could also specify a wndproc.\n",
    "        class_atom = win32gui.RegisterClass(wc)\n",
    "        # Create the Window.\n",
    "        style = win32con.WS_OVERLAPPED | win32con.WS_SYSMENU\n",
    "        self.hwnd = win32gui.CreateWindow(class_atom, \"Taskbar\", style,\n",
    "                                          0, 0, win32con.CW_USEDEFAULT,\n",
    "                                          win32con.CW_USEDEFAULT, 0, 0,\n",
    "                                          hinst, None)\n",
    "        win32gui.UpdateWindow(self.hwnd)\n",
    "        icon_path_name = os.path.abspath(os.path.join(sys.path[0],\n",
    "                                                      \"balloontip.ico\"))\n",
    "        icon_flags = win32con.LR_LOADFROMFILE | win32con.LR_DEFAULTSIZE\n",
    "        try:\n",
    "            hicon = win32gui.LoadImage(hinst, icon_path_name,\n",
    "                                       win32con.IMAGE_ICON, 0, 0, icon_flags)\n",
    "        except FileNotFoundError:\n",
    "            hicon = win32gui.LoadIcon(0, win32con.IDI_APPLICATION)\n",
    "        flags = win32gui.NIF_ICON | win32gui.NIF_MESSAGE | win32gui.NIF_TIP\n",
    "        nid = (self.hwnd, 0, flags, win32con.WM_USER+20, hicon, \"tooltip\")\n",
    "        win32gui.Shell_NotifyIcon(win32gui.NIM_ADD, nid)\n",
    "        win32gui.Shell_NotifyIcon(win32gui.NIM_MODIFY,\n",
    "                                  (self.hwnd, 0, win32gui.NIF_INFO,\n",
    "                                   win32con.WM_USER+20, hicon,\n",
    "                                   \"Balloon  tooltip\", msg, 200, title))\n",
    "        # self.show_balloon(title, msg)\n",
    "        time.sleep(10)\n",
    "        win32gui.DestroyWindow(self.hwnd)\n",
    "        win32gui.UnregisterClass(class_atom, hinst)\n",
    "        self.destroyed = True\n",
    "\n",
    "    def OnDestroy(self, hwnd, msg, wparam, lparam):\n",
    "        nid = (self.hwnd, 0)\n",
    "        win32gui.Shell_NotifyIcon(win32gui.NIM_DELETE, nid)\n",
    "        win32gui.PostQuitMessage(0)  # Terminate the app.\n",
    "\n",
    "    def isDestroyed(self):\n",
    "        return self.destroyed\n",
    "\n",
    "\n",
    "def balloon_tip(title, msg):\n",
    "    w = WindowsBalloonTip(title, msg)\n",
    "    return w"
   ]
  },
  {
   "cell_type": "code",
   "execution_count": 9,
   "metadata": {},
   "outputs": [
    {
     "name": "stdout",
     "output_type": "stream",
     "text": [
      "Tue Sep 29 18:48:24 2020 Kings XI Punjab beat Chennai Super Kings - Kings XI won by 4 runs - Kings XI Punjab vs Chennai Super Kings Indian Premier League 2018 12th match  , Report  ESPNcricinfo.com\n"
     ]
    },
    {
     "ename": "error",
     "evalue": "(2, 'LoadImage', 'The system cannot find the file specified.')",
     "output_type": "error",
     "traceback": [
      "\u001b[1;31m---------------------------------------------------------------------------\u001b[0m",
      "\u001b[1;31merror\u001b[0m                                     Traceback (most recent call last)",
      "\u001b[1;32m<ipython-input-9-c8e3318f0bec>\u001b[0m in \u001b[0;36m<module>\u001b[1;34m\u001b[0m\n\u001b[0;32m     15\u001b[0m     \u001b[0mt\u001b[0m \u001b[1;33m=\u001b[0m \u001b[0mt\u001b[0m\u001b[1;33m.\u001b[0m\u001b[0mreplace\u001b[0m\u001b[1;33m(\u001b[0m\u001b[1;34m\"|\"\u001b[0m\u001b[1;33m,\u001b[0m \u001b[1;34m\"\"\u001b[0m\u001b[1;33m,\u001b[0m \u001b[1;36m2\u001b[0m\u001b[1;33m)\u001b[0m\u001b[1;33m\u001b[0m\u001b[1;33m\u001b[0m\u001b[0m\n\u001b[0;32m     16\u001b[0m     \u001b[0mprint\u001b[0m\u001b[1;33m(\u001b[0m\u001b[0mctime\u001b[0m\u001b[1;33m(\u001b[0m\u001b[1;33m)\u001b[0m\u001b[1;33m,\u001b[0m \u001b[0mt\u001b[0m\u001b[1;33m)\u001b[0m\u001b[1;33m\u001b[0m\u001b[1;33m\u001b[0m\u001b[0m\n\u001b[1;32m---> 17\u001b[1;33m     \u001b[0mballoon_tip\u001b[0m\u001b[1;33m(\u001b[0m\u001b[1;34m\"CricScore\"\u001b[0m\u001b[1;33m,\u001b[0m \u001b[0mt\u001b[0m\u001b[1;33m)\u001b[0m\u001b[1;33m\u001b[0m\u001b[1;33m\u001b[0m\u001b[0m\n\u001b[0m\u001b[0;32m     18\u001b[0m     \u001b[0msleep\u001b[0m\u001b[1;33m(\u001b[0m\u001b[0minterval\u001b[0m \u001b[1;33m-\u001b[0m \u001b[1;33m(\u001b[0m\u001b[1;33m(\u001b[0m\u001b[0mtime\u001b[0m\u001b[1;33m(\u001b[0m\u001b[1;33m)\u001b[0m \u001b[1;33m-\u001b[0m \u001b[0mstarttime\u001b[0m\u001b[1;33m)\u001b[0m \u001b[1;33m%\u001b[0m \u001b[0minterval\u001b[0m\u001b[1;33m)\u001b[0m\u001b[1;33m)\u001b[0m\u001b[1;33m\u001b[0m\u001b[1;33m\u001b[0m\u001b[0m\n",
      "\u001b[1;32m<ipython-input-6-cff7b48aa92d>\u001b[0m in \u001b[0;36mballoon_tip\u001b[1;34m(title, msg)\u001b[0m\n\u001b[0;32m     56\u001b[0m \u001b[1;33m\u001b[0m\u001b[0m\n\u001b[0;32m     57\u001b[0m \u001b[1;32mdef\u001b[0m \u001b[0mballoon_tip\u001b[0m\u001b[1;33m(\u001b[0m\u001b[0mtitle\u001b[0m\u001b[1;33m,\u001b[0m \u001b[0mmsg\u001b[0m\u001b[1;33m)\u001b[0m\u001b[1;33m:\u001b[0m\u001b[1;33m\u001b[0m\u001b[1;33m\u001b[0m\u001b[0m\n\u001b[1;32m---> 58\u001b[1;33m     \u001b[0mw\u001b[0m \u001b[1;33m=\u001b[0m \u001b[0mWindowsBalloonTip\u001b[0m\u001b[1;33m(\u001b[0m\u001b[0mtitle\u001b[0m\u001b[1;33m,\u001b[0m \u001b[0mmsg\u001b[0m\u001b[1;33m)\u001b[0m\u001b[1;33m\u001b[0m\u001b[1;33m\u001b[0m\u001b[0m\n\u001b[0m\u001b[0;32m     59\u001b[0m     \u001b[1;32mreturn\u001b[0m \u001b[0mw\u001b[0m\u001b[1;33m\u001b[0m\u001b[1;33m\u001b[0m\u001b[0m\n",
      "\u001b[1;32m<ipython-input-6-cff7b48aa92d>\u001b[0m in \u001b[0;36m__init__\u001b[1;34m(self, title, msg)\u001b[0m\n\u001b[0;32m     30\u001b[0m         \u001b[1;32mtry\u001b[0m\u001b[1;33m:\u001b[0m\u001b[1;33m\u001b[0m\u001b[1;33m\u001b[0m\u001b[0m\n\u001b[0;32m     31\u001b[0m             hicon = win32gui.LoadImage(hinst, icon_path_name,\n\u001b[1;32m---> 32\u001b[1;33m                                        win32con.IMAGE_ICON, 0, 0, icon_flags)\n\u001b[0m\u001b[0;32m     33\u001b[0m         \u001b[1;32mexcept\u001b[0m \u001b[0mFileNotFoundError\u001b[0m\u001b[1;33m:\u001b[0m\u001b[1;33m\u001b[0m\u001b[1;33m\u001b[0m\u001b[0m\n\u001b[0;32m     34\u001b[0m             \u001b[0mhicon\u001b[0m \u001b[1;33m=\u001b[0m \u001b[0mwin32gui\u001b[0m\u001b[1;33m.\u001b[0m\u001b[0mLoadIcon\u001b[0m\u001b[1;33m(\u001b[0m\u001b[1;36m0\u001b[0m\u001b[1;33m,\u001b[0m \u001b[0mwin32con\u001b[0m\u001b[1;33m.\u001b[0m\u001b[0mIDI_APPLICATION\u001b[0m\u001b[1;33m)\u001b[0m\u001b[1;33m\u001b[0m\u001b[1;33m\u001b[0m\u001b[0m\n",
      "\u001b[1;31merror\u001b[0m: (2, 'LoadImage', 'The system cannot find the file specified.')"
     ]
    }
   ],
   "source": [
    "from urllib.request import urlopen, urlretrieve\n",
    "from time import time, sleep, ctime\n",
    "from bs4 import BeautifulSoup\n",
    "\n",
    "starttime = time()\n",
    "interval = 300.0\n",
    "\n",
    "\n",
    "while True:\n",
    "    url = \"http://www.espncricinfo.com/series/8048/game/1136572/kings-xi-\" +\"punjab-vs-chennai-super-kings-12th-match-indian-premier-league-2018\"\n",
    "    source_code = BeautifulSoup(urlopen(url).read(), \"html.parser\")\n",
    "    t = source_code.title.string\n",
    "    t = t.replace(\"Match Summary\", \"\")\n",
    "    t = t.replace(\"ESPNCricinfo\", \"\")\n",
    "    t = t.replace(\"|\", \"\", 2)\n",
    "    print(ctime(), t)\n",
    "    balloon_tip(\"CricScore\", t)\n",
    "    sleep(interval - ((time() - starttime) % interval))"
   ]
  },
  {
   "cell_type": "code",
   "execution_count": null,
   "metadata": {},
   "outputs": [],
   "source": []
  }
 ],
 "metadata": {
  "kernelspec": {
   "display_name": "Python 3",
   "language": "python",
   "name": "python3"
  },
  "language_info": {
   "codemirror_mode": {
    "name": "ipython",
    "version": 3
   },
   "file_extension": ".py",
   "mimetype": "text/x-python",
   "name": "python",
   "nbconvert_exporter": "python",
   "pygments_lexer": "ipython3",
   "version": "3.7.6"
  }
 },
 "nbformat": 4,
 "nbformat_minor": 4
}
