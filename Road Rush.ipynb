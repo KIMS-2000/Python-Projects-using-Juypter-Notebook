{
 "cells": [
  {
   "cell_type": "markdown",
   "metadata": {},
   "source": [
    "# On a busy road, multiple cars are passing by. A simulation is run to see what happens if brakes fail for all cars on the road. The only way for them to be safe is if they don't collide and pass by each other. The goal is to identify whether any of the given cars would collide or pass by each other safely around a Roundabout. Think of this as a reference point O ( Origin with coordinates (0,0) ), but instead of going around it, cars pass through it.Considering that each car is moving in a straight line towards the originwith individual uniform speed. Cars will continue to travel in that same straight line even after crossing origin. Calculate the number of collisions that will happen in such a scenario.\n",
    "\n",
    "Note : - Calculate collisions only at origin. Ignore the other collisions. Assume that each car continues on its respective path even after the collision without change of direction or speed for an infinite distance.\n"
   ]
  },
  {
   "cell_type": "markdown",
   "metadata": {},
   "source": [
    "##### Input Format\n",
    "\n",
    "##### Output Format \n",
    "A single integer Q denoting the number of collisions at origin possible for given set of cars.\n",
    "\n",
    "\n",
    "Constraints\n",
    "1<=T<=100\n",
    "1<=N<=5000\n",
    "\n",
    "##### Sample Input and Output \n",
    "\n",
    "Example 1\n",
    "Input\n",
    "5\n",
    "5 12 1\n",
    "16 63 5\n",
    "-10 24 2\n",
    "7 24 2\n",
    "-24 7 2\n",
    "\n",
    "Output\n",
    "4\n",
    "\n",
    "#### Explanation \n",
    "Let the 5 cars be A, B, C, D, and E respectively.\n",
    "4 Collisions are as follows -\n",
    "1) A & B.\n",
    "2) A & C.\n",
    "3) B & C.\n",
    "4) D & E."
   ]
  },
  {
   "cell_type": "code",
   "execution_count": 3,
   "metadata": {},
   "outputs": [
    {
     "name": "stdout",
     "output_type": "stream",
     "text": [
      "5\n",
      "5 12 1\n",
      "16 63 5\n",
      "-10 24 2\n",
      "7 24 2\n",
      "-24 7 2\n",
      "4\n"
     ]
    }
   ],
   "source": [
    "import math\n",
    "n = int(input())\n",
    "time = []\n",
    "for i in range(n):\n",
    "  x1,y1,s = map(int,input().split())\n",
    "  d = math.sqrt((x1**2)+(y1**2))\n",
    "  t = d/s\n",
    "  time.append(t)\n",
    "# print(time)\n",
    "count = 0\n",
    "for i in range(len(time)):\n",
    "  for j in range(i+1,len(time)):\n",
    "    if(time[i] == time[j]):\n",
    "      count+=1\n",
    "print(count)"
   ]
  },
  {
   "cell_type": "code",
   "execution_count": null,
   "metadata": {},
   "outputs": [],
   "source": []
  }
 ],
 "metadata": {
  "kernelspec": {
   "display_name": "Python 3",
   "language": "python",
   "name": "python3"
  },
  "language_info": {
   "codemirror_mode": {
    "name": "ipython",
    "version": 3
   },
   "file_extension": ".py",
   "mimetype": "text/x-python",
   "name": "python",
   "nbconvert_exporter": "python",
   "pygments_lexer": "ipython3",
   "version": "3.7.6"
  }
 },
 "nbformat": 4,
 "nbformat_minor": 4
}
